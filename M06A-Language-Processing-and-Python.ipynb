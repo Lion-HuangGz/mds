{
    "nbformat_minor": 1, 
    "cells": [
        {
            "source": "# FLIP(01):  Advanced Data Science\n**(Module 07: Natural Language Processing)**\n\n---\n- Materials in this module include resources collected from various open-source online repositories.\n- You are free to use, but NOT allowed to change or distribute this package.\n\nPrepared by and for \n**Student Members** |\n2006-2019 [TULIP Lab](http://www.tulip.org.au)\n\n---", 
            "cell_type": "markdown", 
            "metadata": {}
        }, 
        {
            "source": "# Session A - Language Processing and Python", 
            "cell_type": "markdown", 
            "metadata": {}
        }, 
        {
            "source": "## Contents\n\n1 [Computing with Language: Texts and Words](#Computing)\n* Getting Started with Python\n* Getting Started with NLTK\n* Searching Text\n* Counting Vocabulary\n\n\n2 [A Closer Look at Python: Texts as Lists of Words](#Words)\n* Lists\n* Indexing Lists\n* Variables\n* Strings\n\n\n3 [Computing with Language: Simple Statistics](#Statistics)\n* Frequency Distributions\n* Fine-Grained Selection of Words\n* Collocations and Bigrams\n* Counting Other Things\n\n\n4 [Back to Python: Making Decisions and Taking Control](#Control)\n* Conditionals\n* Operating on Every Element\n* Nested Code Blocks\n* Looping with Conditions", 
            "cell_type": "markdown", 
            "metadata": {}
        }, 
        {
            "source": "<a id = \"Computing\"></a>\n\n## <span style=\"color:#0b486b\">1. Computing with Language: Texts and Words</span>", 
            "cell_type": "markdown", 
            "metadata": {}
        }, 
        {
            "source": "### Getting Started with Python", 
            "cell_type": "markdown", 
            "metadata": {}
        }, 
        {
            "source": "### Getting Started with NLTK", 
            "cell_type": "markdown", 
            "metadata": {}
        }, 
        {
            "execution_count": null, 
            "cell_type": "code", 
            "metadata": {}, 
            "outputs": [], 
            "source": "import nltk"
        }, 
        {
            "source": "#### NLTK book", 
            "cell_type": "markdown", 
            "metadata": {}
        }, 
        {
            "execution_count": null, 
            "cell_type": "code", 
            "metadata": {}, 
            "outputs": [], 
            "source": "nltk.download()"
        }, 
        {
            "source": "<img src='https://github.com/tulip-lab/mds/raw/master/Jupyter/image/nlp/download.png' width = '600' height = '600' align = center />", 
            "cell_type": "markdown", 
            "metadata": {}
        }, 
        {
            "source": "<img src='https://github.com/tulip-lab/mds/raw/master/Jupyter/image/nlp/download2.png' width = '600' height = '600' align = center />", 
            "cell_type": "markdown", 
            "metadata": {}
        }, 
        {
            "execution_count": null, 
            "cell_type": "code", 
            "metadata": {}, 
            "outputs": [], 
            "source": "from nltk.book import *"
        }, 
        {
            "execution_count": null, 
            "cell_type": "code", 
            "metadata": {}, 
            "outputs": [], 
            "source": "text1"
        }, 
        {
            "execution_count": null, 
            "cell_type": "code", 
            "metadata": {}, 
            "outputs": [], 
            "source": "dir(text1)"
        }, 
        {
            "execution_count": null, 
            "cell_type": "code", 
            "metadata": {}, 
            "outputs": [], 
            "source": "text2"
        }, 
        {
            "source": "### Searching Text", 
            "cell_type": "markdown", 
            "metadata": {}
        }, 
        {
            "source": "#### concordance", 
            "cell_type": "markdown", 
            "metadata": {}
        }, 
        {
            "source": "##### A concordance view shows us every occurrence of a given word, together with some context.", 
            "cell_type": "markdown", 
            "metadata": {}
        }, 
        {
            "execution_count": null, 
            "cell_type": "code", 
            "metadata": {}, 
            "outputs": [], 
            "source": "text1.concordance(\"monstrous\")"
        }, 
        {
            "source": "### Your Turn: ", 
            "cell_type": "markdown", 
            "metadata": {}
        }, 
        {
            "source": "Try searching for other words; to save re-typing, you might\nbe able to use up-arrow, Ctrl-up-arrow, or Alt-p to access the previous\ncommand and modify the word being searched. You can also try search-\nes on some of the other texts we have included. For example, search\nSense and Sensibility for the word affection, using text2.concord\nance(\"affection\"). Search the book of Genesis to find out how long\nsome people lived, using: text3.concordance(\"lived\"). You could look\nat text4, the Inaugural Address Corpus, to see examples of English going\nback to 1789, and search for words like nation, terror, god to see how\nthese words have been used differently over time. We\u2019ve also included\ntext5, the NPS Chat Corpus: search this for unconventional words like\nim, ur, lol. (Note that this corpus is uncensored!)", 
            "cell_type": "markdown", 
            "metadata": {}
        }, 
        {
            "execution_count": null, 
            "cell_type": "code", 
            "metadata": {}, 
            "outputs": [], 
            "source": "# \ud574\ubd05\uc2dc\ub2e4!!"
        }, 
        {
            "source": "#### similar", 
            "cell_type": "markdown", 
            "metadata": {}
        }, 
        {
            "source": "A concordance permits us to see words in context. For example, we saw that mon- strous occurred in contexts such as \"the ... picutes\" and \"the ... size\". What other words appear in a similar range of contexts? We can find out by appending the term similar to the name of the text in question, then inserting the relevant word in parentheses", 
            "cell_type": "markdown", 
            "metadata": {}
        }, 
        {
            "execution_count": null, 
            "cell_type": "code", 
            "metadata": {}, 
            "outputs": [], 
            "source": "text1.similar(\"monstrous\")"
        }, 
        {
            "execution_count": null, 
            "cell_type": "code", 
            "metadata": {}, 
            "outputs": [], 
            "source": "text2.similar(\"monstrous\")"
        }, 
        {
            "source": "#### common_contexts", 
            "cell_type": "markdown", 
            "metadata": {}
        }, 
        {
            "source": "The term common_contexts allows us to examine just the contexts that are shared by two or more words, such as monstrous and very.", 
            "cell_type": "markdown", 
            "metadata": {}
        }, 
        {
            "execution_count": null, 
            "cell_type": "code", 
            "metadata": {}, 
            "outputs": [], 
            "source": "text2.common_contexts([\"monstrous\", \"very\"])"
        }, 
        {
            "source": "### Your Turn:", 
            "cell_type": "markdown", 
            "metadata": {}
        }, 
        {
            "source": " Pick another pair of words and compare their usage in two\ndifferent texts, using the similar() and common_contexts() functions.", 
            "cell_type": "markdown", 
            "metadata": {}
        }, 
        {
            "execution_count": null, 
            "cell_type": "code", 
            "metadata": {}, 
            "outputs": [], 
            "source": "# \ud574\ubd05\uc2dc\ub2e4!!"
        }, 
        {
            "source": "#### dispersion plot", 
            "cell_type": "markdown", 
            "metadata": {}
        }, 
        {
            "source": "We can also determine the location of a word in the text: how many words from the beginning it appears. This positional information can be displayed using a dispersion plot. Each stripe represents an instance of a word, and each row represents the entire text.", 
            "cell_type": "markdown", 
            "metadata": {}
        }, 
        {
            "execution_count": null, 
            "cell_type": "code", 
            "metadata": {}, 
            "outputs": [], 
            "source": "text4"
        }, 
        {
            "execution_count": null, 
            "cell_type": "code", 
            "metadata": {}, 
            "outputs": [], 
            "source": "text4.dispersion_plot([\"citizens\", \"democracy\", \"freedom\", \"duties\", \"America\"])"
        }, 
        {
            "source": "#### generate", 
            "cell_type": "markdown", 
            "metadata": {}
        }, 
        {
            "source": "Now, just for fun, let\u2019s try generating some random text in the various styles we have just seen. To do this, we type the name of the text followed by the term generate.", 
            "cell_type": "markdown", 
            "metadata": {}
        }, 
        {
            "execution_count": null, 
            "cell_type": "code", 
            "metadata": {}, 
            "outputs": [], 
            "source": "text3"
        }, 
        {
            "execution_count": null, 
            "cell_type": "code", 
            "metadata": {}, 
            "outputs": [], 
            "source": "text3.generate()"
        }, 
        {
            "source": "### Counting Vocabulary", 
            "cell_type": "markdown", 
            "metadata": {}
        }, 
        {
            "source": "#### token", 
            "cell_type": "markdown", 
            "metadata": {}
        }, 
        {
            "source": "A token is the technical name for a sequence of characters\u2014such as hairy, his, or :)\u2014that we want to treat as a group.", 
            "cell_type": "markdown", 
            "metadata": {}
        }, 
        {
            "execution_count": null, 
            "cell_type": "code", 
            "metadata": {}, 
            "outputs": [], 
            "source": "len(text3)"
        }, 
        {
            "source": "So Genesis has 44,764 words and punctuation symbols, or \u201ctokens.\u201d\n", 
            "cell_type": "markdown", 
            "metadata": {}
        }, 
        {
            "source": "##### token example", 
            "cell_type": "markdown", 
            "metadata": {}
        }, 
        {
            "source": "###### \"to be or not to be\"", 
            "cell_type": "markdown", 
            "metadata": {}
        }, 
        {
            "source": "When we count the number of tokens in a text, say, the phrase to\nbe or not to be, we are counting occurrences of these sequences. Thus, in our example\nphrase there are two occurrences of to, two of be, and one each of or and not.\n\n* to, to, be, be, or, not\n", 
            "cell_type": "markdown", 
            "metadata": {}
        }, 
        {
            "source": "#### vocabulary", 
            "cell_type": "markdown", 
            "metadata": {}
        }, 
        {
            "source": "The vocabulary of a text is just the set of tokens that it uses, since in a set, all duplicates are collapsed together.", 
            "cell_type": "markdown", 
            "metadata": {}
        }, 
        {
            "source": "vocabulary example", 
            "cell_type": "markdown", 
            "metadata": {}
        }, 
        {
            "source": "###### \"to be or not to be\"", 
            "cell_type": "markdown", 
            "metadata": {}
        }, 
        {
            "source": "* to , be, or, not", 
            "cell_type": "markdown", 
            "metadata": {}
        }, 
        {
            "execution_count": null, 
            "cell_type": "code", 
            "metadata": {
                "scrolled": true
            }, 
            "outputs": [], 
            "source": "sorted(set(text3))"
        }, 
        {
            "source": "#### word type", 
            "cell_type": "markdown", 
            "metadata": {}
        }, 
        {
            "source": "Although it has 44,764 tokens, this book has only 2,789 distinct words, or \u201cword types.\u201d A word type is the form or spelling of the word independently of its specific occurrences in a text\u2014that is, the word considered as a unique item of vocabulary.", 
            "cell_type": "markdown", 
            "metadata": {}
        }, 
        {
            "execution_count": null, 
            "cell_type": "code", 
            "metadata": {}, 
            "outputs": [], 
            "source": "len(set(text3))"
        }, 
        {
            "source": "#### measure of the lexical richness of the text.", 
            "cell_type": "markdown", 
            "metadata": {}
        }, 
        {
            "source": "Now, let\u2019s calculate a measure of the lexical richness of the text. The next example\nshows us that each word is used 16 times on average (we need to make sure Python\nuses floating-point division)\n", 
            "cell_type": "markdown", 
            "metadata": {}
        }, 
        {
            "execution_count": null, 
            "cell_type": "code", 
            "metadata": {}, 
            "outputs": [], 
            "source": "from __future__ import division"
        }, 
        {
            "execution_count": null, 
            "cell_type": "code", 
            "metadata": {}, 
            "outputs": [], 
            "source": "len(text3) / len(set(text3))"
        }, 
        {
            "source": "#### let\u2019s focus on particular words", 
            "cell_type": "markdown", 
            "metadata": {}
        }, 
        {
            "execution_count": null, 
            "cell_type": "code", 
            "metadata": {}, 
            "outputs": [], 
            "source": "text3.count(\"smote\")"
        }, 
        {
            "execution_count": null, 
            "cell_type": "code", 
            "metadata": {}, 
            "outputs": [], 
            "source": "100 * text4.count('a') / len(text4)"
        }, 
        {
            "source": "### Your Turn : ", 
            "cell_type": "markdown", 
            "metadata": {}
        }, 
        {
            "source": "How many times does the word lol appear in text5? How\nmuch is this as a percentage of the total number of words in this text?\n", 
            "cell_type": "markdown", 
            "metadata": {}
        }, 
        {
            "execution_count": null, 
            "cell_type": "code", 
            "metadata": {}, 
            "outputs": [], 
            "source": "# \ud574\ubcf4\uc790!"
        }, 
        {
            "source": "#### function", 
            "cell_type": "markdown", 
            "metadata": {}
        }, 
        {
            "execution_count": null, 
            "cell_type": "code", 
            "metadata": {}, 
            "outputs": [], 
            "source": "def lexical_diversity(text):\n    return len(text) / len(set(text))"
        }, 
        {
            "execution_count": null, 
            "cell_type": "code", 
            "metadata": {}, 
            "outputs": [], 
            "source": "def percentage(count, total): \n    return 100 * count / total"
        }, 
        {
            "execution_count": null, 
            "cell_type": "code", 
            "metadata": {}, 
            "outputs": [], 
            "source": "lexical_diversity(text3)"
        }, 
        {
            "execution_count": null, 
            "cell_type": "code", 
            "metadata": {}, 
            "outputs": [], 
            "source": "percentage(4, 5)"
        }, 
        {
            "execution_count": null, 
            "cell_type": "code", 
            "metadata": {}, 
            "outputs": [], 
            "source": "percentage(text4.count('a'), len(text4))"
        }, 
        {
            "source": "<a id = \"Words\"></a>\n\n## <span style=\"color:#0b486b\">2. A Closer Look at Python: Texts as Lists of Words</span>", 
            "cell_type": "markdown", 
            "metadata": {}
        }, 
        {
            "source": "### Lists", 
            "cell_type": "markdown", 
            "metadata": {}
        }, 
        {
            "execution_count": null, 
            "cell_type": "code", 
            "metadata": {}, 
            "outputs": [], 
            "source": "sent1 = ['Call', 'me', 'Ishmael', '.']"
        }, 
        {
            "execution_count": null, 
            "cell_type": "code", 
            "metadata": {}, 
            "outputs": [], 
            "source": "sent1"
        }, 
        {
            "execution_count": null, 
            "cell_type": "code", 
            "metadata": {}, 
            "outputs": [], 
            "source": "len(sent1)"
        }, 
        {
            "execution_count": null, 
            "cell_type": "code", 
            "metadata": {}, 
            "outputs": [], 
            "source": "lexical_diversity(sent1)"
        }, 
        {
            "execution_count": null, 
            "cell_type": "code", 
            "metadata": {}, 
            "outputs": [], 
            "source": "sent2"
        }, 
        {
            "execution_count": null, 
            "cell_type": "code", 
            "metadata": {}, 
            "outputs": [], 
            "source": "sent3"
        }, 
        {
            "source": "#### concatenation", 
            "cell_type": "markdown", 
            "metadata": {}
        }, 
        {
            "execution_count": null, 
            "cell_type": "code", 
            "metadata": {}, 
            "outputs": [], 
            "source": "['Monty', 'Python'] + ['and', 'the', 'Holy', 'Grail']"
        }, 
        {
            "execution_count": null, 
            "cell_type": "code", 
            "metadata": {}, 
            "outputs": [], 
            "source": "sent4 + sent1"
        }, 
        {
            "source": "#### appending", 
            "cell_type": "markdown", 
            "metadata": {}
        }, 
        {
            "execution_count": null, 
            "cell_type": "code", 
            "metadata": {}, 
            "outputs": [], 
            "source": "sent1.append(\"Some\")"
        }, 
        {
            "execution_count": null, 
            "cell_type": "code", 
            "metadata": {}, 
            "outputs": [], 
            "source": "sent1"
        }, 
        {
            "source": "### Indexing Lists", 
            "cell_type": "markdown", 
            "metadata": {}
        }, 
        {
            "source": "#### index", 
            "cell_type": "markdown", 
            "metadata": {}
        }, 
        {
            "execution_count": null, 
            "cell_type": "code", 
            "metadata": {}, 
            "outputs": [], 
            "source": "text4[173]"
        }, 
        {
            "execution_count": null, 
            "cell_type": "code", 
            "metadata": {}, 
            "outputs": [], 
            "source": "text4.index('awaken')"
        }, 
        {
            "source": "#### slicing", 
            "cell_type": "markdown", 
            "metadata": {}
        }, 
        {
            "execution_count": null, 
            "cell_type": "code", 
            "metadata": {}, 
            "outputs": [], 
            "source": "text5[16715:16735]"
        }, 
        {
            "execution_count": null, 
            "cell_type": "code", 
            "metadata": {}, 
            "outputs": [], 
            "source": "sent = ['word1', 'word2', 'word3', 'word4', 'word5', 'word6', 'word7', 'word8', 'word9', 'word10']"
        }, 
        {
            "execution_count": null, 
            "cell_type": "code", 
            "metadata": {}, 
            "outputs": [], 
            "source": "sent[0]"
        }, 
        {
            "execution_count": null, 
            "cell_type": "code", 
            "metadata": {}, 
            "outputs": [], 
            "source": "sent[1]"
        }, 
        {
            "source": "#### runtime error", 
            "cell_type": "markdown", 
            "metadata": {}
        }, 
        {
            "execution_count": null, 
            "cell_type": "code", 
            "metadata": {}, 
            "outputs": [], 
            "source": "sent[10]"
        }, 
        {
            "execution_count": null, 
            "cell_type": "code", 
            "metadata": {}, 
            "outputs": [], 
            "source": "sent[5:8]"
        }, 
        {
            "execution_count": null, 
            "cell_type": "code", 
            "metadata": {}, 
            "outputs": [], 
            "source": "sent[5]"
        }, 
        {
            "execution_count": null, 
            "cell_type": "code", 
            "metadata": {}, 
            "outputs": [], 
            "source": "sent[6]"
        }, 
        {
            "execution_count": null, 
            "cell_type": "code", 
            "metadata": {}, 
            "outputs": [], 
            "source": "sent[7]"
        }, 
        {
            "execution_count": null, 
            "cell_type": "code", 
            "metadata": {}, 
            "outputs": [], 
            "source": "sent[:3]"
        }, 
        {
            "execution_count": null, 
            "cell_type": "code", 
            "metadata": {}, 
            "outputs": [], 
            "source": "text2[141525:]"
        }, 
        {
            "execution_count": null, 
            "cell_type": "code", 
            "metadata": {}, 
            "outputs": [], 
            "source": "sent[0] = 'First'"
        }, 
        {
            "execution_count": null, 
            "cell_type": "code", 
            "metadata": {}, 
            "outputs": [], 
            "source": "sent[9] = 'Last'"
        }, 
        {
            "execution_count": null, 
            "cell_type": "code", 
            "metadata": {}, 
            "outputs": [], 
            "source": "len(sent)"
        }, 
        {
            "execution_count": null, 
            "cell_type": "code", 
            "metadata": {}, 
            "outputs": [], 
            "source": "sent[1:9] = ['Second', 'Third']"
        }, 
        {
            "execution_count": null, 
            "cell_type": "code", 
            "metadata": {}, 
            "outputs": [], 
            "source": "sent"
        }, 
        {
            "source": "### Variables", 
            "cell_type": "markdown", 
            "metadata": {}
        }, 
        {
            "source": "#### variable", 
            "cell_type": "markdown", 
            "metadata": {}
        }, 
        {
            "execution_count": null, 
            "cell_type": "code", 
            "metadata": {}, 
            "outputs": [], 
            "source": "sent1 = ['Call', 'me', 'Ishmael', '.']"
        }, 
        {
            "source": "#### assignment", 
            "cell_type": "markdown", 
            "metadata": {}
        }, 
        {
            "execution_count": null, 
            "cell_type": "code", 
            "metadata": {}, 
            "outputs": [], 
            "source": "my_sent = ['Bravely', 'bold', 'Sir', 'Robin', ',', 'rode', 'forth', 'from', 'Camelot', '.']"
        }, 
        {
            "execution_count": null, 
            "cell_type": "code", 
            "metadata": {}, 
            "outputs": [], 
            "source": "noun_phrase = my_sent[1:4]"
        }, 
        {
            "execution_count": null, 
            "cell_type": "code", 
            "metadata": {}, 
            "outputs": [], 
            "source": "noun_phrase"
        }, 
        {
            "execution_count": null, 
            "cell_type": "code", 
            "metadata": {}, 
            "outputs": [], 
            "source": "wOrDs = sorted(noun_phrase)"
        }, 
        {
            "execution_count": null, 
            "cell_type": "code", 
            "metadata": {}, 
            "outputs": [], 
            "source": "wOrDs"
        }, 
        {
            "execution_count": null, 
            "cell_type": "code", 
            "metadata": {}, 
            "outputs": [], 
            "source": "vocab = set(text1)"
        }, 
        {
            "execution_count": null, 
            "cell_type": "code", 
            "metadata": {}, 
            "outputs": [], 
            "source": "vocab_size = len(vocab)"
        }, 
        {
            "execution_count": null, 
            "cell_type": "code", 
            "metadata": {}, 
            "outputs": [], 
            "source": "vocab_size"
        }, 
        {
            "source": "### Strings", 
            "cell_type": "markdown", 
            "metadata": {}
        }, 
        {
            "execution_count": null, 
            "cell_type": "code", 
            "metadata": {}, 
            "outputs": [], 
            "source": "name = 'Monty'"
        }, 
        {
            "execution_count": null, 
            "cell_type": "code", 
            "metadata": {}, 
            "outputs": [], 
            "source": "name[0]"
        }, 
        {
            "execution_count": null, 
            "cell_type": "code", 
            "metadata": {}, 
            "outputs": [], 
            "source": "name[:4]"
        }, 
        {
            "execution_count": null, 
            "cell_type": "code", 
            "metadata": {}, 
            "outputs": [], 
            "source": "name * 2"
        }, 
        {
            "execution_count": null, 
            "cell_type": "code", 
            "metadata": {}, 
            "outputs": [], 
            "source": "name + '!'"
        }, 
        {
            "execution_count": null, 
            "cell_type": "code", 
            "metadata": {}, 
            "outputs": [], 
            "source": "'/'.join(['Monty', 'Python'])"
        }, 
        {
            "execution_count": null, 
            "cell_type": "code", 
            "metadata": {}, 
            "outputs": [], 
            "source": "'Monty Python'.split()"
        }, 
        {
            "source": "<a id = \"Statistics\"></a>\n\n## <span style=\"color:#0b486b\">3. Computing with Language: Simple Statistics</span>", 
            "cell_type": "markdown", 
            "metadata": {}
        }, 
        {
            "execution_count": null, 
            "cell_type": "code", 
            "metadata": {}, 
            "outputs": [], 
            "source": "saying = ['After', 'all', 'is', 'said', 'and', 'done', 'more', 'is', 'said', 'than', 'done']"
        }, 
        {
            "execution_count": null, 
            "cell_type": "code", 
            "metadata": {}, 
            "outputs": [], 
            "source": "tokens = set(saying)"
        }, 
        {
            "execution_count": null, 
            "cell_type": "code", 
            "metadata": {}, 
            "outputs": [], 
            "source": "tokens = sorted(tokens)"
        }, 
        {
            "execution_count": null, 
            "cell_type": "code", 
            "metadata": {}, 
            "outputs": [], 
            "source": "tokens[-2:]"
        }, 
        {
            "source": "### Frequency Distributions", 
            "cell_type": "markdown", 
            "metadata": {}
        }, 
        {
            "source": "<img src='https://github.com/tulip-lab/mds/raw/master/Jupyter/image/nlp/tbl1-3.png' width = '600' height = '600' align = center />", 
            "cell_type": "markdown", 
            "metadata": {}
        }, 
        {
            "execution_count": null, 
            "cell_type": "code", 
            "metadata": {}, 
            "outputs": [], 
            "source": "fdist1 = FreqDist(text1)"
        }, 
        {
            "execution_count": null, 
            "cell_type": "code", 
            "metadata": {
                "scrolled": true
            }, 
            "outputs": [], 
            "source": "fdist1"
        }, 
        {
            "execution_count": null, 
            "cell_type": "code", 
            "metadata": {}, 
            "outputs": [], 
            "source": "vocabulary1 = fdist1.keys()"
        }, 
        {
            "execution_count": null, 
            "cell_type": "code", 
            "metadata": {
                "scrolled": true
            }, 
            "outputs": [], 
            "source": "vocabulary1[:50]"
        }, 
        {
            "execution_count": null, 
            "cell_type": "code", 
            "metadata": {}, 
            "outputs": [], 
            "source": "fdist1.plot(50, cumulative=True)"
        }, 
        {
            "execution_count": null, 
            "cell_type": "code", 
            "metadata": {}, 
            "outputs": [], 
            "source": "dir(fdist1)"
        }, 
        {
            "source": "#### hapaxes", 
            "cell_type": "markdown", 
            "metadata": {}
        }, 
        {
            "source": "If the frequent words don\u2019t help us, how about the words that occur once only, the so- called hapaxes?", 
            "cell_type": "markdown", 
            "metadata": {}
        }, 
        {
            "execution_count": null, 
            "cell_type": "code", 
            "metadata": {
                "scrolled": true
            }, 
            "outputs": [], 
            "source": "fdist1.hapaxes()"
        }, 
        {
            "source": "### Fine-Grained Selection of Words", 
            "cell_type": "markdown", 
            "metadata": {}
        }, 
        {
            "source": "#### long words", 
            "cell_type": "markdown", 
            "metadata": {}
        }, 
        {
            "source": "Next, let\u2019s look at the long words of a text; perhaps these will be more characteristic and informative.", 
            "cell_type": "markdown", 
            "metadata": {}
        }, 
        {
            "execution_count": null, 
            "cell_type": "code", 
            "metadata": {}, 
            "outputs": [], 
            "source": " V = set(text1)"
        }, 
        {
            "execution_count": null, 
            "cell_type": "code", 
            "metadata": {}, 
            "outputs": [], 
            "source": "long_words = [w for w in V if len(w) > 15]"
        }, 
        {
            "execution_count": null, 
            "cell_type": "code", 
            "metadata": {}, 
            "outputs": [], 
            "source": "sorted(long_words)"
        }, 
        {
            "source": "#### infrequent long words", 
            "cell_type": "markdown", 
            "metadata": {}
        }, 
        {
            "execution_count": null, 
            "cell_type": "code", 
            "metadata": {}, 
            "outputs": [], 
            "source": "fdist5 = FreqDist(text5)"
        }, 
        {
            "execution_count": null, 
            "cell_type": "code", 
            "metadata": {}, 
            "outputs": [], 
            "source": "sorted([w for w in set(text5) if len(w) > 7 and fdist5[w] > 7])"
        }, 
        {
            "source": "### Collocations and Bigrams", 
            "cell_type": "markdown", 
            "metadata": {}
        }, 
        {
            "source": "#### collocation", 
            "cell_type": "markdown", 
            "metadata": {}
        }, 
        {
            "source": "A collocation is a sequence of words that occur together unusually often. Thus red wine is a collocation, whereas the wine is not. A characteristic of collocations is that they are resistant to substitution with words that have similar senses; for example, maroon wine sounds very odd.", 
            "cell_type": "markdown", 
            "metadata": {}
        }, 
        {
            "source": "#### bigrams", 
            "cell_type": "markdown", 
            "metadata": {}
        }, 
        {
            "source": "To get a handle on collocations, we start off by extracting from a text a list of word pairs, also known as bigrams.", 
            "cell_type": "markdown", 
            "metadata": {}
        }, 
        {
            "execution_count": null, 
            "cell_type": "code", 
            "metadata": {}, 
            "outputs": [], 
            "source": "bigrams(['more', 'is', 'said', 'than', 'done'])"
        }, 
        {
            "execution_count": null, 
            "cell_type": "code", 
            "metadata": {}, 
            "outputs": [], 
            "source": "text4.collocations()"
        }, 
        {
            "execution_count": null, 
            "cell_type": "code", 
            "metadata": {}, 
            "outputs": [], 
            "source": "text8.collocations()"
        }, 
        {
            "source": "### Counting Other Things", 
            "cell_type": "markdown", 
            "metadata": {}
        }, 
        {
            "execution_count": null, 
            "cell_type": "code", 
            "metadata": {
                "scrolled": false
            }, 
            "outputs": [], 
            "source": "[len(w) for w in text1]"
        }, 
        {
            "execution_count": null, 
            "cell_type": "code", 
            "metadata": {}, 
            "outputs": [], 
            "source": "fdist = FreqDist([len(w) for w in text1])"
        }, 
        {
            "execution_count": null, 
            "cell_type": "code", 
            "metadata": {}, 
            "outputs": [], 
            "source": "fdist"
        }, 
        {
            "execution_count": null, 
            "cell_type": "code", 
            "metadata": {}, 
            "outputs": [], 
            "source": "fdist.keys()"
        }, 
        {
            "execution_count": null, 
            "cell_type": "code", 
            "metadata": {}, 
            "outputs": [], 
            "source": "fdist.items()"
        }, 
        {
            "execution_count": null, 
            "cell_type": "code", 
            "metadata": {}, 
            "outputs": [], 
            "source": "fdist.max()"
        }, 
        {
            "execution_count": null, 
            "cell_type": "code", 
            "metadata": {}, 
            "outputs": [], 
            "source": "fdist[3]"
        }, 
        {
            "execution_count": null, 
            "cell_type": "code", 
            "metadata": {}, 
            "outputs": [], 
            "source": "fdist.freq(3)"
        }, 
        {
            "source": "<img src='https://github.com/tulip-lab/mds/raw/master/Jupyter/image/nlp/tbl1-2.png' width = '600' height = '600' align = center />", 
            "cell_type": "markdown", 
            "metadata": {}
        }, 
        {
            "source": "<a id = \"Control\"></a>\n\n## <span style=\"color:#0b486b\">4. Back to Python: Making Decisions and Taking Control</span>", 
            "cell_type": "markdown", 
            "metadata": {}
        }, 
        {
            "source": "### Conditionals", 
            "cell_type": "markdown", 
            "metadata": {}
        }, 
        {
            "source": "<img src='https://github.com/tulip-lab/mds/raw/master/Jupyter/image/nlp/tbl1-3.png' width = '600' height = '600' align = center />", 
            "cell_type": "markdown", 
            "metadata": {}
        }, 
        {
            "execution_count": null, 
            "cell_type": "code", 
            "metadata": {}, 
            "outputs": [], 
            "source": "sent7"
        }, 
        {
            "execution_count": null, 
            "cell_type": "code", 
            "metadata": {}, 
            "outputs": [], 
            "source": "[w for w in sent7 if len(w) < 4]"
        }, 
        {
            "execution_count": null, 
            "cell_type": "code", 
            "metadata": {}, 
            "outputs": [], 
            "source": "[w for w in sent7 if len(w) == 4]"
        }, 
        {
            "execution_count": null, 
            "cell_type": "code", 
            "metadata": {}, 
            "outputs": [], 
            "source": "[w for w in sent7 if len(w) != 4]"
        }, 
        {
            "source": "<img src='./img/tbl1-4.png' />", 
            "cell_type": "markdown", 
            "metadata": {}
        }, 
        {
            "execution_count": null, 
            "cell_type": "code", 
            "metadata": {}, 
            "outputs": [], 
            "source": "sorted([w for w in set(text1) if w.endswith('ableness')])"
        }, 
        {
            "execution_count": null, 
            "cell_type": "code", 
            "metadata": {}, 
            "outputs": [], 
            "source": "sorted([term for term in set(text4) if 'gnt' in term])"
        }, 
        {
            "execution_count": null, 
            "cell_type": "code", 
            "metadata": {}, 
            "outputs": [], 
            "source": "sorted([item for item in set(text6) if item.istitle()])"
        }, 
        {
            "execution_count": null, 
            "cell_type": "code", 
            "metadata": {}, 
            "outputs": [], 
            "source": "sorted([item for item in set(sent7) if item.isdigit()])"
        }, 
        {
            "source": "### Operating on Every Element", 
            "cell_type": "markdown", 
            "metadata": {}
        }, 
        {
            "execution_count": null, 
            "cell_type": "code", 
            "metadata": {}, 
            "outputs": [], 
            "source": "[len(w) for w in text1]"
        }, 
        {
            "execution_count": null, 
            "cell_type": "code", 
            "metadata": {}, 
            "outputs": [], 
            "source": "[w.upper() for w in text1]"
        }, 
        {
            "execution_count": null, 
            "cell_type": "code", 
            "metadata": {}, 
            "outputs": [], 
            "source": "len(text1)"
        }, 
        {
            "execution_count": null, 
            "cell_type": "code", 
            "metadata": {}, 
            "outputs": [], 
            "source": "len(set(text1))"
        }, 
        {
            "execution_count": null, 
            "cell_type": "code", 
            "metadata": {}, 
            "outputs": [], 
            "source": "len(set([word.lower() for word in text1]))"
        }, 
        {
            "execution_count": null, 
            "cell_type": "code", 
            "metadata": {}, 
            "outputs": [], 
            "source": "len(set([word.lower() for word in text1 if word.isalpha()]))"
        }, 
        {
            "source": "### Nested Code Blocks", 
            "cell_type": "markdown", 
            "metadata": {}
        }, 
        {
            "execution_count": null, 
            "cell_type": "code", 
            "metadata": {}, 
            "outputs": [], 
            "source": "word = 'cat'"
        }, 
        {
            "execution_count": null, 
            "cell_type": "code", 
            "metadata": {}, 
            "outputs": [], 
            "source": "if len(word) < 5:\n    print 'word length is less than 5'\n"
        }, 
        {
            "execution_count": null, 
            "cell_type": "code", 
            "metadata": {}, 
            "outputs": [], 
            "source": "if len(word) >= 5:\n    print 'word length is greater than or equal to 5'\n"
        }, 
        {
            "execution_count": null, 
            "cell_type": "code", 
            "metadata": {}, 
            "outputs": [], 
            "source": "for word in ['Call', 'me', 'Ishmael', '.']:\n    print word"
        }, 
        {
            "source": "### Looping with Conditions", 
            "cell_type": "markdown", 
            "metadata": {}
        }, 
        {
            "execution_count": null, 
            "cell_type": "code", 
            "metadata": {}, 
            "outputs": [], 
            "source": "sent1 = ['Call', 'me', 'Ishmael', '.']"
        }, 
        {
            "execution_count": null, 
            "cell_type": "code", 
            "metadata": {}, 
            "outputs": [], 
            "source": "for xyzzy in sent1:\n    if xyzzy.endswith('l'):\n        print xyzzy"
        }, 
        {
            "execution_count": null, 
            "cell_type": "code", 
            "metadata": {}, 
            "outputs": [], 
            "source": "for token in sent1 : \n    if token.islower():\n        print token, 'is a lowercase word'\n    elif token.istitle():\n        print token, 'is a titlecase word'\n    else:\n        print token, 'is punctuation'"
        }, 
        {
            "execution_count": null, 
            "cell_type": "code", 
            "metadata": {}, 
            "outputs": [], 
            "source": "tricky = sorted([w for w in set(text2) if 'cie' in w or 'cei' in w])"
        }, 
        {
            "execution_count": null, 
            "cell_type": "code", 
            "metadata": {}, 
            "outputs": [], 
            "source": "for word in tricky:\n    print word,"
        }
    ], 
    "metadata": {
        "kernelspec": {
            "display_name": "Python 2.7", 
            "name": "python2", 
            "language": "python"
        }, 
        "language_info": {
            "mimetype": "text/x-python", 
            "nbconvert_exporter": "python", 
            "version": "2.7.15", 
            "name": "python", 
            "file_extension": ".py", 
            "pygments_lexer": "ipython2", 
            "codemirror_mode": {
                "version": 2, 
                "name": "ipython"
            }
        }, 
        "anaconda-cloud": {}
    }, 
    "nbformat": 4
}