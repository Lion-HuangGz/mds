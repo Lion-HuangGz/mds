{
    "nbformat_minor": 1, 
    "cells": [
        {
            "source": "# FLIP(01):  Advanced Data Science\n**(Module 01: A Touch of Data Science - DataBase)**\n\n---\n- Materials in this module include resources collected from various open-source online repositories.\n- You are free to use, but NOT allowed to change or distribute this package.\n\nPrepared by and for \"\n**Student Members** |\n2006-2019 [TULIP Lab](http://www.tulip.org.au)\n\n---\n\n\n# Session N - JSON", 
            "cell_type": "markdown", 
            "metadata": {
                "collapsed": true
            }
        }, 
        {
            "source": "The majority of requests and responses to and from IBM Cloudant for IBM Cloud use the [JavaScript Object Notation (JSON)](https://en.wikipedia.org/wiki/JSON)for formatting the content and structure of the data and responses.\n\nIn IBM Cloudant databases, the JSON object is used to represent a variety of structures, including all documents in a database.\n\nParsing JSON into a JavaScript object is supported through the `JSON.parse()` function in JavaScript, or through various [libraries](https://console.bluemix.net/docs/services/Cloudant/libraries/index.html#client-libraries) that perform the parsing of the content into a JavaScript object for you. [Libraries](https://console.bluemix.net/docs/services/Cloudant/libraries/index.html#client-libraries) for parsing and generating JSON are available for many major programming languages.\n\nJSON is used because it is the simplest and easiest solution for working with data using a web browser. This is because JSON structures can be evaluated and used as JavaScript objects within the web browser environment. JSON also integrates with the server-side JavaScript used within IBM Cloudant. JSON documents are always UTF-8 encoded.\n\n\n**Be careful to ensure that:**\n* Your JSON structures are valid. Invalid structures cause IBM Cloudant to return an HTTP status code of [400 (bad request)](https://console.bluemix.net/docs/services/Cloudant/api/http.html#400).\n* You normalize strings in JSON documents retrieved from IBM Cloudant, before you compare them. This is because Unicode normalization might have been applied, so that a string stored and then retrieved is not identical on a binary level.", 
            "cell_type": "markdown", 
            "metadata": {}
        }, 
        {
            "source": "## Contents\n\n1 [Numbers](#Numbers)\n\n2.[Strings](#Strings)\n\n3.[Booleans](#Booleans)\n\n4.[Arrays](#Arrays)\n\n5.[Objects](#Objects)", 
            "cell_type": "markdown", 
            "metadata": {}
        }, 
        {
            "source": "<a id = \"Numbers\"></a>\n\n## <span style=\"color:#0b486b\">Numbers</span>\n\n\nNumbers can be integer or floating point values.\n\nExample of a number in JSON format:", 
            "cell_type": "markdown", 
            "metadata": {}
        }, 
        {
            "source": "123", 
            "cell_type": "raw", 
            "metadata": {}
        }, 
        {
            "source": "<a id = \"Strings\"></a>\n\n## <span style=\"color:#0b486b\">Strings</span>\n\n\nString should be enclosed by double-quotes. Strings support Unicode characters and backslash escaping.\n\nExample of a string in JSON format:", 
            "cell_type": "markdown", 
            "metadata": {}
        }, 
        {
            "source": "\"A String\"", 
            "cell_type": "raw", 
            "metadata": {}
        }, 
        {
            "source": "<a id = \"Booleans\"></a>\n\n## <span style=\"color:#0b486b\">Booleans</span>\n\n\nA `true` or `false` value.\n\nExample of a boolean in JSON format:", 
            "cell_type": "markdown", 
            "metadata": {}
        }, 
        {
            "source": "{\n  \"value\": true\n}", 
            "cell_type": "raw", 
            "metadata": {}
        }, 
        {
            "source": "<a id = \"Arrays\"></a>\n\n## <span style=\"color:#0b486b\">Arrays</span>\n\n\nA list of values enclosed in brackets. The values enclosed can be any valid JSON.\n\nExample of an array in JSON format:", 
            "cell_type": "markdown", 
            "metadata": {}
        }, 
        {
            "source": "[\n    \"one\",\n    2,\n    \"three\",\n    [],\n    true,\n    {\n        \"foo\":\n        \"bar\"\n    }\n]", 
            "cell_type": "raw", 
            "metadata": {}
        }, 
        {
            "source": "Example of an array in JSON format (linear):", 
            "cell_type": "markdown", 
            "metadata": {}
        }, 
        {
            "source": "[ \"one\", 2, \"three\", [], true, { \"foo\": \"bar\" } ]", 
            "cell_type": "raw", 
            "metadata": {}
        }, 
        {
            "source": "<a id = \"Objects\"></a>\n\n## <span style=\"color:#0b486b\">Objects</span>\n\n\nA set of key/value pairs, such as an associative array, or a hash. The key must be a string, but the value can be any of the supported JSON values.\n\nExample of a JSON object:", 
            "cell_type": "markdown", 
            "metadata": {}
        }, 
        {
            "source": "{\n    \"servings\" : 4,\n    \"subtitle\" : \"Easy to make in advance, and then cook when ready\",\n    \"cooktime\" : 60,\n    \"title\" : \"Chicken Coriander\"\n}", 
            "cell_type": "raw", 
            "metadata": {}
        }
    ], 
    "metadata": {
        "kernelspec": {
            "display_name": "Python 3.5", 
            "name": "python3", 
            "language": "python"
        }, 
        "language_info": {
            "mimetype": "text/x-python", 
            "nbconvert_exporter": "python", 
            "version": "3.5.5", 
            "name": "python", 
            "file_extension": ".py", 
            "pygments_lexer": "ipython3", 
            "codemirror_mode": {
                "version": 3, 
                "name": "ipython"
            }
        }
    }, 
    "nbformat": 4
}