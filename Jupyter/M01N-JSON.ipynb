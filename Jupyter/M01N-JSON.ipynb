{
 "cells": [
  {
   "cell_type": "markdown",
   "metadata": {
    "collapsed": true
   },
   "source": [
    "# FLIP(01):  Advanced Data Science\n",
    "**(Module 01: A Touch of Data Science - DataBase)**\n",
    "\n",
    "---\n",
    "- Materials in this module include resources collected from various open-source online repositories.\n",
    "- You are free to use, but NOT allowed to change or distribute this package.\n",
    "- If you found any issue/bug for this document, please submit an issue at [tulip-lab/mds](https://github.com/tulip-lab/mds/issues)\n",
    "\n",
    "Prepared by and for \n",
    "**Student Members** |\n",
    "2006-2019 [TULIP Lab](http://www.tulip.org.au)\n",
    "\n",
    "---\n",
    "\n",
    "\n",
    "# Session N - JSON"
   ]
  },
  {
   "cell_type": "markdown",
   "metadata": {},
   "source": [
    "The majority of requests and responses to and from IBM Cloudant for IBM Cloud use the [JavaScript Object Notation (JSON)](https://en.wikipedia.org/wiki/JSON)for formatting the content and structure of the data and responses.\n",
    "\n",
    "In IBM Cloudant databases, the JSON object is used to represent a variety of structures, including all documents in a database.\n",
    "\n",
    "Parsing JSON into a JavaScript object is supported through the `JSON.parse()` function in JavaScript, or through various [libraries](https://console.bluemix.net/docs/services/Cloudant/libraries/index.html#client-libraries) that perform the parsing of the content into a JavaScript object for you. [Libraries](https://console.bluemix.net/docs/services/Cloudant/libraries/index.html#client-libraries) for parsing and generating JSON are available for many major programming languages.\n",
    "\n",
    "JSON is used because it is the simplest and easiest solution for working with data using a web browser. This is because JSON structures can be evaluated and used as JavaScript objects within the web browser environment. JSON also integrates with the server-side JavaScript used within IBM Cloudant. JSON documents are always UTF-8 encoded.\n",
    "\n",
    "\n",
    "**Be careful to ensure that:**\n",
    "* Your JSON structures are valid. Invalid structures cause IBM Cloudant to return an HTTP status code of [400 (bad request)](https://console.bluemix.net/docs/services/Cloudant/api/http.html#400).\n",
    "* You normalize strings in JSON documents retrieved from IBM Cloudant, before you compare them. This is because Unicode normalization might have been applied, so that a string stored and then retrieved is not identical on a binary level."
   ]
  },
  {
   "cell_type": "markdown",
   "metadata": {},
   "source": [
    "## Contents\n",
    "\n",
    "1 [Numbers](#Numbers)\n",
    "\n",
    "2.[Strings](#Strings)\n",
    "\n",
    "3.[Booleans](#Booleans)\n",
    "\n",
    "4.[Arrays](#Arrays)\n",
    "\n",
    "5.[Objects](#Objects)"
   ]
  },
  {
   "cell_type": "markdown",
   "metadata": {},
   "source": [
    "<a id = \"Numbers\"></a>\n",
    "\n",
    "## <span style=\"color:#0b486b\">Numbers</span>\n",
    "\n",
    "\n",
    "Numbers can be integer or floating point values.\n",
    "\n",
    "Example of a number in JSON format:"
   ]
  },
  {
   "cell_type": "raw",
   "metadata": {},
   "source": [
    "123"
   ]
  },
  {
   "cell_type": "markdown",
   "metadata": {},
   "source": [
    "<a id = \"Strings\"></a>\n",
    "\n",
    "## <span style=\"color:#0b486b\">Strings</span>\n",
    "\n",
    "\n",
    "String should be enclosed by double-quotes. Strings support Unicode characters and backslash escaping.\n",
    "\n",
    "Example of a string in JSON format:"
   ]
  },
  {
   "cell_type": "raw",
   "metadata": {},
   "source": [
    "\"A String\""
   ]
  },
  {
   "cell_type": "markdown",
   "metadata": {},
   "source": [
    "<a id = \"Booleans\"></a>\n",
    "\n",
    "## <span style=\"color:#0b486b\">Booleans</span>\n",
    "\n",
    "\n",
    "A `true` or `false` value.\n",
    "\n",
    "Example of a boolean in JSON format:"
   ]
  },
  {
   "cell_type": "raw",
   "metadata": {},
   "source": [
    "{\n",
    "  \"value\": true\n",
    "}"
   ]
  },
  {
   "cell_type": "markdown",
   "metadata": {},
   "source": [
    "<a id = \"Arrays\"></a>\n",
    "\n",
    "## <span style=\"color:#0b486b\">Arrays</span>\n",
    "\n",
    "\n",
    "A list of values enclosed in brackets. The values enclosed can be any valid JSON.\n",
    "\n",
    "Example of an array in JSON format:"
   ]
  },
  {
   "cell_type": "raw",
   "metadata": {},
   "source": [
    "[\n",
    "    \"one\",\n",
    "    2,\n",
    "    \"three\",\n",
    "    [],\n",
    "    true,\n",
    "    {\n",
    "        \"foo\":\n",
    "        \"bar\"\n",
    "    }\n",
    "]"
   ]
  },
  {
   "cell_type": "markdown",
   "metadata": {},
   "source": [
    "Example of an array in JSON format (linear):"
   ]
  },
  {
   "cell_type": "raw",
   "metadata": {},
   "source": [
    "[ \"one\", 2, \"three\", [], true, { \"foo\": \"bar\" } ]"
   ]
  },
  {
   "cell_type": "markdown",
   "metadata": {},
   "source": [
    "<a id = \"Objects\"></a>\n",
    "\n",
    "## <span style=\"color:#0b486b\">Objects</span>\n",
    "\n",
    "\n",
    "A set of key/value pairs, such as an associative array, or a hash. The key must be a string, but the value can be any of the supported JSON values.\n",
    "\n",
    "Example of a JSON object:"
   ]
  },
  {
   "cell_type": "raw",
   "metadata": {},
   "source": [
    "{\n",
    "    \"servings\" : 4,\n",
    "    \"subtitle\" : \"Easy to make in advance, and then cook when ready\",\n",
    "    \"cooktime\" : 60,\n",
    "    \"title\" : \"Chicken Coriander\"\n",
    "}"
   ]
  }
 ],
 "metadata": {
  "anaconda-cloud": {},
  "kernelspec": {
   "display_name": "Python [anaconda3]",
   "language": "python",
   "name": "Python [anaconda3]"
  },
  "language_info": {
   "codemirror_mode": {
    "name": "ipython",
    "version": 3
   },
   "file_extension": ".py",
   "mimetype": "text/x-python",
   "name": "python",
   "nbconvert_exporter": "python",
   "pygments_lexer": "ipython3",
   "version": "3.5.5"
  }
 },
 "nbformat": 4,
 "nbformat_minor": 1
}
