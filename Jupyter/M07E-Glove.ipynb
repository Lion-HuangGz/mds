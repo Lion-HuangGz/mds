{
 "cells": [
  {
   "cell_type": "markdown",
   "metadata": {},
   "source": [
    "# Modern Data Science\n",
    "**(Module 07: Natural Language Processing)**\n",
    "\n",
    "---\n",
    "- Materials in this module include resources collected from various open-source online repositories.\n",
    "- You are free to use, change and distribute this package.\n",
    "- If you found any issue/bug for this document, please submit an issue at [tulip-lab/mds](https://github.com/tulip-lab/mds/issues)\n",
    "\n",
    "Prepared by and for \n",
    "**Student Members** |\n",
    "2006-2019 [TULIP Lab](http://www.tulip.org.au)\n",
    "\n",
    "---"
   ]
  },
  {
   "cell_type": "markdown",
   "metadata": {},
   "source": [
    "# Session E - Glove"
   ]
  },
  {
   "cell_type": "markdown",
   "metadata": {},
   "source": [
    "## Contents\n",
    "\n",
    "1 [Import Package and corpus](#Import)\n",
    "\n",
    "2 [vocab_count: Calculating Word Statistics](#Calculating)\n",
    "\n",
    "3 [cooccur: Calculate Co-occurrence](#cooccur)\n",
    "\n",
    "4 [shuffle: Reorganization of co-occurrence results](#shuffle)\n",
    "\n",
    "5 [Training](#Training)\n",
    "\n",
    "6 [Similarity calculation](#Similarity)"
   ]
  },
  {
   "cell_type": "markdown",
   "metadata": {},
   "source": [
    "\n",
    "<a id = \"Import\"></a>\n",
    "##  <span style=\"color:#0b486b\">Import Package and corpus</span>\n"
   ]
  },
  {
   "cell_type": "code",
   "execution_count": null,
   "metadata": {
    "collapsed": true
   },
   "outputs": [],
   "source": [
    "from collections import Counter\n",
    "import numpy as np\n",
    "from scipy import sparse\n",
    "import itertools\n",
    "from random import shuffle\n",
    "from math import log"
   ]
  },
  {
   "cell_type": "code",
   "execution_count": null,
   "metadata": {
    "collapsed": true
   },
   "outputs": [],
   "source": [
    "corpus = ('''Lionel Messi born 24 June 1987 is an Argentine professional footballer who plays as a forward for \n",
    "Spanish club Barcelona and the Argentine national team. Often considered the best player in the world and regarded\n",
    "by many as the greatest of all time, Messi has a record-tying five Ballon d'Or awards,four of which he won \n",
    "consecutively, and a record five European Golden Shoes. He has spent his entire professional career with Barcelona, \n",
    "where he has won 32 trophies, including nine La Liga titles, four UEFA Champions League titles, and six Copas \n",
    "del Rey. Both a prolific goalscorer and a creative playmaker, Messi holds the records for most official goals \n",
    "scored in La Liga (383), a La Liga season (50), a club football season in Europe (73), a calendar year (91), \n",
    "El Clásico (26), as well as those for most assists in La Liga (149) and the Copa América (11). He has scored over \n",
    "600 senior career goals for club and country.\n",
    "\n",
    "Born and raised in central Argentina, Messi was diagnosed with a growth hormone deficiency as a child. At age 13, \n",
    "he relocated to Spain to join Barcelona, who agreed to pay for his medical treatment. After a fast progression \n",
    "through Barcelona's youth academy, Messi made his competitive debut aged 17 in October 2004. Despite being \n",
    "injury-prone during his early career, he established himself as an integral player for the club within the next \n",
    "three years, finishing 2007 as a finalist for both the Ballon d'Or and FIFA World Player of the Year award, a feat \n",
    "he repeated the following year. His first uninterrupted campaign came in the 2008–09 season, during which he helped \n",
    "Barcelona achieve the first treble in Spanish football. At 22 years old, Messi won the Ballon d'Or and FIFA World \n",
    "Player of the Year award by record voting margins.\n",
    "\n",
    "Three successful seasons followed, with Messi winning three consecutive FIFA Ballons d'Or, including an \n",
    "unprecedented fourth. His best campaign statistically to date was the 2011–12 season, in which he set the La Liga \n",
    "and European records for most goals scored in a single season, while establishing himself as Barcelona's all-time \n",
    "top scorer in official competitions in March 2012. The following two seasons, Messi finished twice second for the \n",
    "Ballon d'Or behind Cristiano Ronaldo, his perceived career rival. Messi regained his best form during the 2014–15 \n",
    "campaign, breaking the all-time goalscoring records in both La Liga and the Champions League in November 2014,\n",
    "[note 3] and led Barcelona to a historic second treble.\n",
    "\n",
    "An Argentine international, Messi is his country's all-time leading goalscorer. At youth level, he won the 2005 \n",
    "FIFA World Youth Championship, finishing the tournament with both the Golden Ball and Golden Shoe, and an Olympic \n",
    "gold medal at the 2008 Summer Olympics. His style of play as a diminutive, left-footed dribbler drew comparisons \n",
    "with compatriot Diego Maradona, who declared the teenager his successor. After making his senior debut in August \n",
    "2005, Messi became the youngest Argentine to play and score in a FIFA World Cup during the 2006 edition, and reached\n",
    "the final of the 2007 Copa América, where he was named young player of the tournament. As the squad's captain from \n",
    "August 2011, he led Argentina to three consecutive finals: the 2014 World Cup, for which he won the Golden Ball, \n",
    "and the 2015 and 2016 Copas América. After announcing his international retirement in 2016, he reversed his \n",
    "decision and led his country to qualification for the 2018 World Cup.''').split(\"\\n\")"
   ]
  },
  {
   "cell_type": "markdown",
   "metadata": {},
   "source": [
    "<a id = \"Calculating\"></a>\n",
    "## <span style=\"color:#0b486b\">vocab_count: Calculating Word Statistics</span>"
   ]
  },
  {
   "cell_type": "code",
   "execution_count": null,
   "metadata": {
    "collapsed": true
   },
   "outputs": [],
   "source": [
    "def build_vocab(corpus):\n",
    "    \n",
    "    vocab = Counter()\n",
    "    for line in corpus:\n",
    "        tokens = line.strip().split()\n",
    "        vocab.update(tokens)\n",
    "\n",
    "    return {word: (i, freq) for i, (word, freq) in enumerate(vocab.items())}"
   ]
  },
  {
   "cell_type": "code",
   "execution_count": null,
   "metadata": {
    "collapsed": true
   },
   "outputs": [],
   "source": [
    "vocab = build_vocab(corpus)\n",
    "vocab"
   ]
  },
  {
   "cell_type": "markdown",
   "metadata": {},
   "source": [
    "<a id = \"cooccur\"></a>\n",
    "## <span style=\"color:#0b486b\">cooccur: Calculate Co-occurrence</span>"
   ]
  },
  {
   "cell_type": "code",
   "execution_count": null,
   "metadata": {
    "collapsed": true
   },
   "outputs": [],
   "source": [
    "def build_cooccur(vocab, corpus, window_size=10, min_count=None):\n",
    "\n",
    "    vocab_size = len(vocab)\n",
    "    id2word = dict((i, word) for word, (i, _) in vocab.items())\n",
    "\n",
    "    cooccurrences = sparse.lil_matrix((vocab_size, vocab_size), dtype=np.float64)\n",
    "\n",
    "    for i, line in enumerate(corpus):\n",
    "        tokens = line.strip().split()\n",
    "        token_ids = [vocab[word][0] for word in tokens]\n",
    "\n",
    "        for center_i, center_id in enumerate(token_ids):\n",
    "            context_ids = token_ids[max(0, center_i - window_size) : center_i]\n",
    "            contexts_len = len(context_ids)\n",
    "\n",
    "            for left_i, left_id in enumerate(context_ids):\n",
    "                # Distance from center word\n",
    "                distance = contexts_len - left_i\n",
    "\n",
    "                # Weight by inverse of distance between words\n",
    "                increment = 1.0 / float(distance)\n",
    "\n",
    "                # Build co-occurrence matrix symmetrically (pretend we\n",
    "                # are calculating right contexts as well)\n",
    "                cooccurrences[center_id, left_id] += increment\n",
    "                cooccurrences[left_id, center_id] += increment\n",
    "\n",
    "    for i, (row, data) in enumerate(zip(cooccurrences.rows,\n",
    "                                                   cooccurrences.data)):\n",
    "        if min_count is not None and vocab[id2word[i]][1] < min_count:\n",
    "            continue\n",
    "        for data_idx, j in enumerate(row):\n",
    "            if min_count is not None and vocab[id2word[j]][1] < min_count:\n",
    "                continue\n",
    "            \n",
    "            yield i, j, data[data_idx]"
   ]
  },
  {
   "cell_type": "code",
   "execution_count": null,
   "metadata": {
    "collapsed": true
   },
   "outputs": [],
   "source": [
    "cooccurrences = build_cooccur(vocab, corpus, window_size=10)"
   ]
  },
  {
   "cell_type": "code",
   "execution_count": null,
   "metadata": {
    "collapsed": true
   },
   "outputs": [],
   "source": [
    "cooccurrences = list(cooccurrences)"
   ]
  },
  {
   "cell_type": "markdown",
   "metadata": {},
   "source": [
    "\n",
    "<a id = \"shuffle\"></a>\n",
    "## <span style=\"color:#0b486b\">shuffle: Reorganization of co-occurrence results</span>"
   ]
  },
  {
   "cell_type": "code",
   "execution_count": null,
   "metadata": {
    "collapsed": true
   },
   "outputs": [],
   "source": [
    "def run_iter(vocab, data, learning_rate=0.05, x_max=100, alpha=0.75):\n",
    "\n",
    "    global_cost = 0\n",
    "\n",
    "    shuffle(data)\n",
    "\n",
    "    for (v_main, v_context, b_main, b_context, gradsq_W_main, gradsq_W_context,\n",
    "         gradsq_b_main, gradsq_b_context, cooccurrence) in data:\n",
    "\n",
    "        weight = (cooccurrence / x_max) ** alpha if cooccurrence < x_max else 1\n",
    "\n",
    "        cost_inner = (v_main.dot(v_context)\n",
    "                      + b_main[0] + b_context[0]\n",
    "                      - log(cooccurrence))\n",
    "\n",
    "        cost = weight * (cost_inner ** 2)\n",
    "\n",
    "        global_cost += 0.5 * cost\n",
    "\n",
    "        grad_main = weight * cost_inner * v_context\n",
    "        grad_context = weight * cost_inner * v_main\n",
    "\n",
    "        grad_bias_main = weight * cost_inner\n",
    "        grad_bias_context = weight * cost_inner\n",
    "\n",
    "        v_main -= (learning_rate * grad_main / np.sqrt(gradsq_W_main))\n",
    "        v_context -= (learning_rate * grad_context / np.sqrt(gradsq_W_context))\n",
    "\n",
    "        b_main -= (learning_rate * grad_bias_main / np.sqrt(gradsq_b_main))\n",
    "        b_context -= (learning_rate * grad_bias_context / np.sqrt(\n",
    "                gradsq_b_context))\n",
    "\n",
    "        gradsq_W_main += np.square(grad_main)\n",
    "        gradsq_W_context += np.square(grad_context)\n",
    "        gradsq_b_main += grad_bias_main ** 2\n",
    "        gradsq_b_context += grad_bias_context ** 2\n",
    "\n",
    "    return global_cost"
   ]
  },
  {
   "cell_type": "markdown",
   "metadata": {},
   "source": [
    "<a id = \"Training\"></a>\n",
    "## <span style=\"color:#0b486b\">Training</span>"
   ]
  },
  {
   "cell_type": "code",
   "execution_count": null,
   "metadata": {
    "collapsed": true
   },
   "outputs": [],
   "source": [
    "def train_glove(vocab, cooccurrences, iter_callback=None, vector_size=100,\n",
    "                iterations=25, **kwargs):\n",
    "\n",
    "    vocab_size = len(vocab)\n",
    "    \n",
    "    W = (np.random.rand(vocab_size * 2, vector_size) - 0.5) / float(vector_size + 1)\n",
    "    \n",
    "    biases = (np.random.rand(vocab_size * 2) - 0.5) / float(vector_size + 1)\n",
    "    \n",
    "    gradient_squared = np.ones((vocab_size * 2, vector_size),\n",
    "                               dtype=np.float64)\n",
    "\n",
    "    gradient_squared_biases = np.ones(vocab_size * 2, dtype=np.float64)\n",
    "\n",
    "    data = [(W[i_main], W[i_context + vocab_size],\n",
    "             biases[i_main : i_main + 1],\n",
    "             biases[i_context + vocab_size : i_context + vocab_size + 1],\n",
    "             gradient_squared[i_main], gradient_squared[i_context + vocab_size],\n",
    "             gradient_squared_biases[i_main : i_main + 1],\n",
    "             gradient_squared_biases[i_context + vocab_size\n",
    "                                     : i_context + vocab_size + 1],\n",
    "             cooccurrence)\n",
    "            for i_main, i_context, cooccurrence in cooccurrences]\n",
    "\n",
    "    for i in range(iterations):\n",
    "        \n",
    "        cost = run_iter(vocab, data, **kwargs)\n",
    "\n",
    "        if iter_callback is not None:\n",
    "            iter_callback(W)\n",
    "\n",
    "    return W"
   ]
  },
  {
   "cell_type": "code",
   "execution_count": null,
   "metadata": {
    "collapsed": true
   },
   "outputs": [],
   "source": [
    "W = train_glove(vocab, cooccurrences, iter_callback=None, vector_size=100, iterations=25)"
   ]
  },
  {
   "cell_type": "code",
   "execution_count": null,
   "metadata": {
    "collapsed": true
   },
   "outputs": [],
   "source": [
    "W"
   ]
  },
  {
   "cell_type": "code",
   "execution_count": null,
   "metadata": {
    "collapsed": true
   },
   "outputs": [],
   "source": [
    "word_id = vocab['Messi'][0]\n",
    "word_id"
   ]
  },
  {
   "cell_type": "code",
   "execution_count": null,
   "metadata": {
    "collapsed": true
   },
   "outputs": [],
   "source": [
    "Messi = W[word_id]\n",
    "Messi"
   ]
  },
  {
   "cell_type": "code",
   "execution_count": null,
   "metadata": {
    "collapsed": true
   },
   "outputs": [],
   "source": [
    "Argentina = W[vocab['Argentina'][0]]"
   ]
  },
  {
   "cell_type": "markdown",
   "metadata": {},
   "source": [
    "<a id = \"Similarity\"></a>\n",
    "\n",
    "## <span style=\"color:#0b486b\">Similarity calculation</span>"
   ]
  },
  {
   "cell_type": "code",
   "execution_count": null,
   "metadata": {
    "collapsed": true
   },
   "outputs": [],
   "source": [
    "from scipy.spatial import distance\n",
    "distance.cosine(Messi, Argentina)"
   ]
  },
  {
   "cell_type": "code",
   "execution_count": null,
   "metadata": {
    "collapsed": true
   },
   "outputs": [],
   "source": [
    "from scipy.spatial import distance\n",
    "distance.cosine(W[vocab['Argentina'][0]], W[vocab['Spain'][0]])"
   ]
  },
  {
   "cell_type": "code",
   "execution_count": null,
   "metadata": {
    "collapsed": true
   },
   "outputs": [],
   "source": [
    "from scipy.spatial import distance\n",
    "distance.cosine(W[vocab['Lionel'][0]], W[vocab['FIFA'][0]])"
   ]
  },
  {
   "cell_type": "code",
   "execution_count": null,
   "metadata": {
    "collapsed": true
   },
   "outputs": [],
   "source": [
    "distance.cosine(W[vocab['born'][0]], W[vocab['March'][0]])"
   ]
  }
 ],
 "metadata": {
  "anaconda-cloud": {},
  "kernelspec": {
   "display_name": "Python [anaconda3]",
   "language": "python",
   "name": "Python [anaconda3]"
  },
  "language_info": {
   "codemirror_mode": {
    "name": "ipython",
    "version": 3
   },
   "file_extension": ".py",
   "mimetype": "text/x-python",
   "name": "python",
   "nbconvert_exporter": "python",
   "pygments_lexer": "ipython3",
   "version": "3.5.5"
  }
 },
 "nbformat": 4,
 "nbformat_minor": 2
}
