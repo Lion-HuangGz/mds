{
 "cells": [
  {
   "cell_type": "markdown",
   "metadata": {},
   "source": [
    "# FLIP(01):  Advanced Data Science\n",
    "**(Module 01: A Touch of Data Science - DataBase)**\n",
    "\n",
    "---\n",
    "- Materials in this module include resources collected from various open-source online repositories.\n",
    "- You are free to use, but NOT allowed to change or distribute this package.\n",
    "- If you found any issue/bug for this document, please submit an issue at [tulip-lab/mds](https://github.com/tulip-lab/mds/issues)\n",
    "\n",
    "Prepared by and for \n",
    "**Student Members** |\n",
    "2006-2019 [TULIP Lab](http://www.tulip.org.au)\n",
    "\n",
    "---\n",
    "\n",
    "\n",
    "# Session J - Creating an IBM Cloudant instance"
   ]
  },
  {
   "cell_type": "markdown",
   "metadata": {},
   "source": [
    "The notebook shows you how to create an IBM Cloudant for IBM Cloud service instance using the IBM Cloud dashboard, and shows you where to find the essential information to enable your applications to work with the database.\n",
    "\n",
    "The Cloudant database provides access to a fully managed NoSQL JSON data layer that is always enabled. This service is compatible with CouchDB and is accessible through the easy-to-use HTTP interface of the mobile and web application models."
   ]
  },
  {
   "cell_type": "markdown",
   "metadata": {},
   "source": [
    "## Creating a service instance\n",
    "\n",
    "Log in to your IBM Cloud account.\n",
    "The IBM Cloud dashboard can be found at: https://cloud.ibm.com/. After authenticating with your user name and password, you are presented with the IBM Cloud dashboard. Click the Create resource button. "
   ]
  },
  {
   "cell_type": "markdown",
   "metadata": {},
   "source": [
    "<img src='https://github.com/tulip-lab/mds/raw/master/Jupyter/image/cloudant/Dashboard.png' width = '1200' height = '1200' align = center />"
   ]
  },
  {
   "cell_type": "markdown",
   "metadata": {},
   "source": [
    "Click `Databases` from the left navigation and Cloudant from the list of database services:"
   ]
  },
  {
   "cell_type": "markdown",
   "metadata": {},
   "source": [
    "<img src='https://github.com/tulip-lab/mds/raw/master/Jupyter/image/cloudant/database-clodant.png' width = '1200' height = '1200' align = center />"
   ]
  },
  {
   "cell_type": "markdown",
   "metadata": {},
   "source": [
    "In the service configuration window, enter a service name. Verify that the service name, region/location, resource group, and authentication methods are correct. Add a tag if you like. The authentication methods that are available include `Use only IAM` or `Use both legacy credentials and IAM`. For more information, see authentication methods {: new_window}. In this example, the service name is Cloudant-ye:"
   ]
  },
  {
   "cell_type": "markdown",
   "metadata": {},
   "source": [
    "<img src='https://github.com/tulip-lab/mds/raw/master/Jupyter/image/cloudant/creat-cloudant.png' width = '1200' height = '1200' align = center />"
   ]
  },
  {
   "cell_type": "markdown",
   "metadata": {},
   "source": [
    "**Import**\n",
    "\n",
    "The IBM Cloudant team recommends that you use IAM access controls over IBM Cloudant legacy authentication whenever possible."
   ]
  },
  {
   "cell_type": "markdown",
   "metadata": {},
   "source": [
    "By default, the service is created by using the 'Lite' pricing plan, which is free but comes with a fixed amount of provisioned throughput capacity and data storage. If you have a paid IBM Cloud account, you can also choose the paid 'Standard' plan so you can toggle the provisioned throughput capacity and scale data usage as needed. For more information about pricing plans, see Plans. To create the service, click the `Create` button:\n",
    "\n",
    "\n",
    "<img src='https://github.com/tulip-lab/mds/raw/master/Jupyter/image/cloudant/creat-cloudant-1.png' width = '1200' height = '1200' align = center />"
   ]
  },
  {
   "cell_type": "markdown",
   "metadata": {},
   "source": [
    "A service page appears, confirming that your new IBM Cloudant service is available. To create the connection information that your application needs to connect to the service, click the `Service Credentials` tab:\n",
    "\n",
    "<img src='https://github.com/tulip-lab/mds/raw/master/Jupyter/image/cloudant/service.png' width = '1200' height = '1200' align = center />"
   ]
  },
  {
   "cell_type": "markdown",
   "metadata": {},
   "source": [
    "Create a new IBM Cloudant service credential: \n",
    "1. Click the `New credential` button. \n",
    "\n",
    "<img src='https://github.com/tulip-lab/mds/raw/master/Jupyter/image/cloudant/new-credential.png' width = '1200' height = '1200' align = center />\n",
    "\n",
    "2. Enter a name for the new credential in the Add new credential window. See image. \n",
    "3. Accept the Manager role. \n",
    "4. (Optional) Create a new service ID or have one automatically generated for you. \n",
    "5. (Optional) Add inline configuration parameters. Note that this parameter is currently not used by IBM Cloudant service credentials so ignore it. \n",
    "6. Click the Add button.\n",
    "\n",
    "<img src='https://github.com/tulip-lab/mds/raw/master/Jupyter/image/cloudant/add-credential.png' width = '600' height = '600' align = center />\n",
    "\n",
    "\n",
    "Your new credential appears after the table.\n",
    "\n",
    "7. Click `View credentials` under Actions. \n",
    "\n",
    "<img src='https://github.com/tulip-lab/mds/raw/master/Jupyter/image/cloudant/lookup.png' width = '1000' height = '1000' align = center />\n",
    "\n",
    "\n",
    "The details for the service credentials appear:\n",
    "\n",
    "<img src='https://github.com/tulip-lab/mds/raw/master/Jupyter/image/cloudant/credential-detail.png' width = '1000' height = '1000' align = center />"
   ]
  },
  {
   "cell_type": "markdown",
   "metadata": {},
   "source": [
    "**Note**  The service credentials in these examples were defined when a demonstration IBM Cloudant service was created on IBM Cloudant. The credentials are reproduced here to show how they would appear in the dashboard. However, the demonstration IBM Cloudant service was removed, so these credentials are no longer valid; you must supply and use your own service credentials."
   ]
  },
  {
   "cell_type": "markdown",
   "metadata": {},
   "source": [
    "## The service credentials"
   ]
  },
  {
   "cell_type": "markdown",
   "metadata": {},
   "source": [
    "Service credentials are valuable. If anyone or any application has access to the credentials, they can effectively do whatever they want with the service instance. For example, they might create spurious data, or delete valuable information. Protect these credentials carefully.\n",
    "\n",
    "IBM Cloudant has two authentication methods available at provisioning time, either `Use only IAM` or `Use both legacy credentials and IAM`. You can see the details about your legacy credentials only if the `Use both legacy credentials and IAM` authentication method is chosen. The credentials display on the Service credentials tab for your instance. For more information, see the IAM guide and legacy authentication document for details about using either style of authentication.\n",
    "\n",
    "The service credentials include the following fields:\n",
    "\n",
    "|   Field  |  Purpose |\n",
    "| :------:  | :------: | \n",
    "| username  | The service name of the service instance user in the URL. This field also serves as the admin user name. | \n",
    "| password  | The legacy credentials password that is required for applications to access the service instance. This field only displays if the Use both legacy credentials and IAM option is chosen. |\n",
    "|   host  | The host name that is used by applications to locate the service instance. This field only displays if the Use both legacy credentials and IAM option is chosen. | \n",
    "| port    | The HTTPS port number for accessing the service instance on the host. It is 443 as only HTTPS access is allowed by IBM Cloudant. This field only displays if the Use both legacy credentials and IAM option is chosen. | \n",
    "| url    | The HTTPS URL to access the IBM Cloudant instance. If the Use both legacy credentials and IAM option is chosen, it also includes the embedded legacy user name and password. | \n",
    "| apikey  | The IAM API key. | \n",
    "| iam_apikey_description | Description of the IAM API key. | \n",
    "|  iam_apikey_name     | ID of the IAM API key. | \n",
    "|  iam_role_crn       | The IAM role that the IAM API key has. | \n",
    "|  iam_serviceid_crn    | The CRN of the service ID. | \n",
    "\n",
    "To create an application that can access your service instance, you need these credentials."
   ]
  },
  {
   "cell_type": "markdown",
   "metadata": {},
   "source": [
    "## Locating your service credentials"
   ]
  },
  {
   "cell_type": "markdown",
   "metadata": {},
   "source": [
    "At any time, you can find the credentials for a service that is associated with your account.\n",
    "\n",
    "Begin by logging in to IBM Cloud. The IBM Cloud dashboard can be found at: https://cloud.ibm.com/. After authenticating with your user name and password, you are presented with the IBM Cloud dashboard:\n",
    "\n",
    "<img src='https://github.com/tulip-lab/mds/raw/master/Jupyter/image/cloudant/Dashboard.png' width = '1000' height = '1000' align = center />"
   ]
  },
  {
   "cell_type": "markdown",
   "metadata": {},
   "source": [
    "In this example, we want to find the service credentials for the IBM Cloudant service instance that was created earlier in this tutorial, called `Cloudant-ye`. Click the **Menu** icon > **Resource List**, and the corresponding row:\n",
    "\n",
    "<img src='https://github.com/tulip-lab/mds/raw/master/Jupyter/image/cloudant/Cloudant.png' width = '1000' height = '1000' align = center />"
   ]
  },
  {
   "cell_type": "markdown",
   "metadata": {},
   "source": [
    "To see the credentials that are required to access the service, click `View Credentials`:\n",
    "\n",
    "<img src='https://github.com/tulip-lab/mds/raw/master/Jupyter/image/cloudant/lookup.png' width = '1000' height = '1000' align = center />"
   ]
  },
  {
   "cell_type": "markdown",
   "metadata": {},
   "source": [
    "The details for the service credentials appear:\n",
    "\n",
    "\n",
    "<img src='https://github.com/tulip-lab/mds/raw/master/Jupyter/image/cloudant/credential-detail.png' width = '1000' height = '1000' align = center />"
   ]
  },
  {
   "cell_type": "markdown",
   "metadata": {},
   "source": [
    "**Note**: The service credentials in these examples were defined when a demonstration IBM Cloudant service was created on IBM Cloudant. The credentials are reproduced here to show how they would appear in the dashboard. However, the demonstration IBM Cloudant service was removed, so these credentials are no longer valid; you must supply and use your own service credentials."
   ]
  }
 ],
 "metadata": {
  "anaconda-cloud": {},
  "kernelspec": {
   "display_name": "Python [anaconda3]",
   "language": "python",
   "name": "Python [anaconda3]"
  },
  "language_info": {
   "codemirror_mode": {
    "name": "ipython",
    "version": 3
   },
   "file_extension": ".py",
   "mimetype": "text/x-python",
   "name": "python",
   "nbconvert_exporter": "python",
   "pygments_lexer": "ipython3",
   "version": "3.5.5"
  }
 },
 "nbformat": 4,
 "nbformat_minor": 1
}
